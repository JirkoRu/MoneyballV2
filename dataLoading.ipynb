{
 "cells": [
  {
   "attachments": {},
   "cell_type": "markdown",
   "metadata": {},
   "source": [
    "# Data loading\n",
    "We start again as usuall by loading all the data from the successful and from the unsuccessful companies."
   ]
  },
  {
   "attachments": {},
   "cell_type": "markdown",
   "metadata": {},
   "source": [
    "1. We import relevant libraries"
   ]
  },
  {
   "cell_type": "code",
   "execution_count": 12,
   "metadata": {},
   "outputs": [],
   "source": [
    "import pandas as pd\n",
    "import numpy as np\n",
    "\n",
    "import matplotlib.pyplot as plt\n",
    "from functools import reduce\n",
    "import math\n",
    "import urllib\n",
    "import difflib"
   ]
  },
  {
   "attachments": {},
   "cell_type": "markdown",
   "metadata": {},
   "source": [
    "Then we load the data:\n",
    "1. load the excel files."
   ]
  },
  {
   "cell_type": "code",
   "execution_count": 15,
   "metadata": {},
   "outputs": [
    {
     "data": {
      "text/plain": [
       "'Merging all of the successful data into one dataframe and creating a column called \"success_flag\" \\nwhich will denote if the company is successful or not '"
      ]
     },
     "execution_count": 15,
     "metadata": {},
     "output_type": "execute_result"
    }
   ],
   "source": [
    "'''\n",
    "First we load both spreadsheets and extra all the names of the workbooks\n",
    "'''\n",
    "\n",
    "xls_Success_Comp       = pd.ExcelFile('data/success/Moneyball 1.1_ Success.xlsx')\n",
    "xls_Success_Comp_Names = xls_Success_Comp.sheet_names\n",
    "\n",
    "\n",
    "xls_Unsuccess_Comp = pd.ExcelFile('data/success/Moneyball 1.1_ Success.xlsx')\n",
    "xls_Unsuccess_Comp_Sheet_Names = xls_Unsuccess_Comp.sheet_names\n"
   ]
  },
  {
   "attachments": {},
   "cell_type": "markdown",
   "metadata": {},
   "source": [
    "2. Load each sheet into a dataframe."
   ]
  },
  {
   "cell_type": "code",
   "execution_count": 37,
   "metadata": {},
   "outputs": [],
   "source": [
    "'''\n",
    "Importing all of the excel sheets of successful informaiton into a list of dataframes\n",
    "'''\n",
    "df_list_SuccessComp = [pd.read_excel(r'data/success/Moneyball 1.1_ Success.xlsx',\n",
    "                                         sheet_name= sheetname) for sheetname in xls_Success_Comp_Names]\n",
    "                                         \n",
    "# df_SuccessfulCompanies[1].drop(index = [503, 504], inplace=True)\n",
    "# df_SuccessfulCompanies[2].drop(index = [573, 574], inplace=True)\n",
    "# df_SuccessfulCompanies[3].drop(index = [522, 523], inplace=True)\n",
    "\n",
    "'''\n",
    "Importing all of the excel sheets of unsuccessful informaiton, into a list of dataframes\n",
    "\n",
    "'''\n",
    "df_list_UnsuccessComp = [pd.read_excel(r'data/success/Moneyball 1.1_ Success.xlsx',\n",
    "                                         sheet_name= sheetname) for sheetname in xls_Unsuccess_Comp_Sheet_Names]\n"
   ]
  },
  {
   "cell_type": "code",
   "execution_count": 38,
   "metadata": {},
   "outputs": [
    {
     "name": "stdout",
     "output_type": "stream",
     "text": [
      "6\n"
     ]
    },
    {
     "data": {
      "text/html": [
       "<div>\n",
       "<style scoped>\n",
       "    .dataframe tbody tr th:only-of-type {\n",
       "        vertical-align: middle;\n",
       "    }\n",
       "\n",
       "    .dataframe tbody tr th {\n",
       "        vertical-align: top;\n",
       "    }\n",
       "\n",
       "    .dataframe thead th {\n",
       "        text-align: right;\n",
       "    }\n",
       "</style>\n",
       "<table border=\"1\" class=\"dataframe\">\n",
       "  <thead>\n",
       "    <tr style=\"text-align: right;\">\n",
       "      <th></th>\n",
       "      <th>README</th>\n",
       "    </tr>\n",
       "  </thead>\n",
       "  <tbody>\n",
       "    <tr>\n",
       "      <th>0</th>\n",
       "      <td>Using the 'investors_uuids' in the 'Funding Ro...</td>\n",
       "    </tr>\n",
       "    <tr>\n",
       "      <th>1</th>\n",
       "      <td>https://drive.google.com/file/d/1wcMns7E_cAD0R...</td>\n",
       "    </tr>\n",
       "  </tbody>\n",
       "</table>\n",
       "</div>"
      ],
      "text/plain": [
       "                                              README\n",
       "0  Using the 'investors_uuids' in the 'Funding Ro...\n",
       "1  https://drive.google.com/file/d/1wcMns7E_cAD0R..."
      ]
     },
     "execution_count": 38,
     "metadata": {},
     "output_type": "execute_result"
    }
   ],
   "source": [
    "# lets do some sanity checks\n",
    "print(len(df_list_SuccessComp))\n",
    "\n",
    "# df_list_SuccessfulCompanies[0].head()\n",
    "df_list_SuccessComp[3].head()\n",
    "df_list_SuccessComp[5].head()\n"
   ]
  },
  {
   "attachments": {},
   "cell_type": "markdown",
   "metadata": {},
   "source": [
    "We can see that the Excel spreadsheet contains two sheets with only links to the CSV files of founder linkedin profiles and investor profiles, we have downloaded those and to get started we will not concern ourselves with the data from these two spreadsheets. I will drop them for now."
   ]
  },
  {
   "cell_type": "code",
   "execution_count": 39,
   "metadata": {},
   "outputs": [
    {
     "data": {
      "text/plain": [
       "(4, 4)"
      ]
     },
     "execution_count": 39,
     "metadata": {},
     "output_type": "execute_result"
    }
   ],
   "source": [
    "indexes = [3, 5]\n",
    "for index in sorted(indexes, reverse=True):\n",
    "    del df_list_SuccessComp[index]\n",
    "    del df_list_UnsuccessComp[index]\n",
    "\n",
    "len(df_list_SuccessComp), len(df_list_UnsuccessComp)"
   ]
  },
  {
   "attachments": {},
   "cell_type": "markdown",
   "metadata": {},
   "source": [
    "3. Join all of the dataframes together."
   ]
  },
  {
   "cell_type": "code",
   "execution_count": 44,
   "metadata": {},
   "outputs": [],
   "source": [
    "'''Merging all of the successful data into one dataframe and creating a column called \"success_flag\" \n",
    "which will denote if the company is successful or not '''\n",
    "df_SuccessfulCompanies_merged = reduce(lambda  left,right: pd.merge(left, right, on=['org_uuid'],\n",
    "                                                                    how='outer', \n",
    "                                                                    suffixes=('', '_y')),\n",
    "                                                                    df_list_SuccessComp)\n",
    "df_SuccessfulCompanies_merged['success_flag']  = 1\n",
    "\n",
    "# drop duplicate columns\n",
    "df_SuccessfulCompanies_merged.drop(df_SuccessfulCompanies_merged.filter(regex='_y$').columns, axis=1, inplace=True)\n",
    "\n",
    "'''Merging all of the unsuccessful data into one dataframe and creating a column called \"success_flag\" \n",
    "which will denote if the company is successful or not '''\n",
    "\n",
    "\n",
    "df_UnsuccessfulCompanies_merged = reduce(lambda  left,right: pd.merge(left, right, on=['org_uuid'],\n",
    "                                                                      how='outer', \n",
    "                                                                      suffixes=('', '_y')),\n",
    "                                                                      df_list_UnsuccessComp)\n",
    "df_UnsuccessfulCompanies_merged['success_flag']  = 0\n",
    "\n",
    "# drop duplicate columns\n",
    "df_UnsuccessfulCompanies_merged.drop(df_UnsuccessfulCompanies_merged.filter(regex='_y$').columns, axis=1, inplace=True)\n",
    "\n",
    "'''Merge the successful and unsuccessful data into one datafram'''\n",
    "df_All_Companies_merged = pd.concat([df_SuccessfulCompanies_merged, df_UnsuccessfulCompanies_merged], ignore_index=True, sort=False)"
   ]
  },
  {
   "cell_type": "code",
   "execution_count": 46,
   "metadata": {},
   "outputs": [
    {
     "data": {
      "text/html": [
       "<div>\n",
       "<style scoped>\n",
       "    .dataframe tbody tr th:only-of-type {\n",
       "        vertical-align: middle;\n",
       "    }\n",
       "\n",
       "    .dataframe tbody tr th {\n",
       "        vertical-align: top;\n",
       "    }\n",
       "\n",
       "    .dataframe thead th {\n",
       "        text-align: right;\n",
       "    }\n",
       "</style>\n",
       "<table border=\"1\" class=\"dataframe\">\n",
       "  <thead>\n",
       "    <tr style=\"text-align: right;\">\n",
       "      <th></th>\n",
       "      <th>org_uuid</th>\n",
       "      <th>org_name</th>\n",
       "      <th>domain</th>\n",
       "      <th>status</th>\n",
       "      <th>founded_on</th>\n",
       "      <th>category_list</th>\n",
       "      <th>category_groups_list</th>\n",
       "      <th>country_code</th>\n",
       "      <th>city</th>\n",
       "      <th>short_description</th>\n",
       "      <th>long_description</th>\n",
       "      <th>founder_linkedin_url</th>\n",
       "      <th>investment_type</th>\n",
       "      <th>round_created_at</th>\n",
       "      <th>raised_amount_usd</th>\n",
       "      <th>investor_count</th>\n",
       "      <th>investors_names</th>\n",
       "      <th>investors_uuids</th>\n",
       "      <th>success_flag</th>\n",
       "    </tr>\n",
       "  </thead>\n",
       "  <tbody>\n",
       "    <tr>\n",
       "      <th>0</th>\n",
       "      <td>a2323b6c-29b9-4750-905c-cdcbd9ce92b8</td>\n",
       "      <td>10X Banking</td>\n",
       "      <td>10xbanking.com</td>\n",
       "      <td>operating</td>\n",
       "      <td>2016-01-01</td>\n",
       "      <td>Banking,Financial Services,FinTech,Software</td>\n",
       "      <td>Financial Services,Lending and Investments,Sof...</td>\n",
       "      <td>GBR</td>\n",
       "      <td>London</td>\n",
       "      <td>10X Banking is a financial service technology ...</td>\n",
       "      <td>10x Banking (10x), a financial services techno...</td>\n",
       "      <td>https://www.linkedin.com/in/antony-jenkins/</td>\n",
       "      <td>series_a</td>\n",
       "      <td>2017-09-21 01:07:18.000000 UTC</td>\n",
       "      <td>45867909.0</td>\n",
       "      <td>2.0</td>\n",
       "      <td>Oliver Wyman,Ping An Global Voyager</td>\n",
       "      <td>88213ccc-71f8-1024-72cf-44e863af4993,c8cb5641-...</td>\n",
       "      <td>1</td>\n",
       "    </tr>\n",
       "    <tr>\n",
       "      <th>1</th>\n",
       "      <td>cf3b00cf-ffbf-0e4f-6427-a60e5060de39</td>\n",
       "      <td>10X Genomics</td>\n",
       "      <td>10xgenomics.com</td>\n",
       "      <td>ipo</td>\n",
       "      <td>2012-01-01</td>\n",
       "      <td>Biotechnology,Genetics,Health Care,Medical</td>\n",
       "      <td>Biotechnology,Health Care,Science and Engineering</td>\n",
       "      <td>USA</td>\n",
       "      <td>Pleasanton</td>\n",
       "      <td>10X Genomics ELV solutions and security system...</td>\n",
       "      <td>10x Genomics is creating revolutionary DNA seq...</td>\n",
       "      <td>https://www.linkedin.com/in/ben-hindson-09739813/</td>\n",
       "      <td>seed</td>\n",
       "      <td>2018-04-27 04:18:33.000000 UTC</td>\n",
       "      <td>4700000.0</td>\n",
       "      <td>1.0</td>\n",
       "      <td>Silicon Valley Bank</td>\n",
       "      <td>4eee5e60-3b06-6fe8-cc2c-29119a96051d</td>\n",
       "      <td>1</td>\n",
       "    </tr>\n",
       "    <tr>\n",
       "      <th>2</th>\n",
       "      <td>cf3b00cf-ffbf-0e4f-6427-a60e5060de39</td>\n",
       "      <td>10X Genomics</td>\n",
       "      <td>10xgenomics.com</td>\n",
       "      <td>ipo</td>\n",
       "      <td>2012-01-01</td>\n",
       "      <td>Biotechnology,Genetics,Health Care,Medical</td>\n",
       "      <td>Biotechnology,Health Care,Science and Engineering</td>\n",
       "      <td>USA</td>\n",
       "      <td>Pleasanton</td>\n",
       "      <td>10X Genomics ELV solutions and security system...</td>\n",
       "      <td>10x Genomics is creating revolutionary DNA seq...</td>\n",
       "      <td>https://www.linkedin.com/in/serge-saxonov-7b42...</td>\n",
       "      <td>seed</td>\n",
       "      <td>2018-04-27 04:18:33.000000 UTC</td>\n",
       "      <td>4700000.0</td>\n",
       "      <td>1.0</td>\n",
       "      <td>Silicon Valley Bank</td>\n",
       "      <td>4eee5e60-3b06-6fe8-cc2c-29119a96051d</td>\n",
       "      <td>1</td>\n",
       "    </tr>\n",
       "    <tr>\n",
       "      <th>3</th>\n",
       "      <td>0680987f-23cd-4fa5-850c-38326fffaa36</td>\n",
       "      <td>111, Inc.</td>\n",
       "      <td>corporate.111.com.cn</td>\n",
       "      <td>ipo</td>\n",
       "      <td>2010-01-01</td>\n",
       "      <td>Health Care,Medical</td>\n",
       "      <td>Health Care</td>\n",
       "      <td>CHN</td>\n",
       "      <td>Shanghai</td>\n",
       "      <td>111, Inc. operates as a digital and mobile hea...</td>\n",
       "      <td>111,Inc. is a leading digital and mobile healt...</td>\n",
       "      <td>https://www.linkedin.com/in/junling-liu-2b90724/</td>\n",
       "      <td>series_a</td>\n",
       "      <td>2018-09-14 07:49:39.000000 UTC</td>\n",
       "      <td>2100000.0</td>\n",
       "      <td>1.0</td>\n",
       "      <td>Ivy Capital</td>\n",
       "      <td>f8eed790-8c07-4e49-c873-0f7245e393ff</td>\n",
       "      <td>1</td>\n",
       "    </tr>\n",
       "    <tr>\n",
       "      <th>4</th>\n",
       "      <td>a79a6ae8-3c74-0db7-7e6b-b4f7662d37e8</td>\n",
       "      <td>17zuoye</td>\n",
       "      <td>ucenter.17zuoye.com</td>\n",
       "      <td>ipo</td>\n",
       "      <td>2011-01-01</td>\n",
       "      <td>E-Learning,EdTech,Education,Internet,Language ...</td>\n",
       "      <td>Education,Internet Services,Software</td>\n",
       "      <td>CHN</td>\n",
       "      <td>Shanghai</td>\n",
       "      <td>17zuoye is an online learning platform for K-1...</td>\n",
       "      <td>17zuoye is an online learning platform for K-1...</td>\n",
       "      <td>https://www.linkedin.com/in/dun-xiao-3622629/</td>\n",
       "      <td>series_a</td>\n",
       "      <td>2015-02-20 15:29:12.000000 UTC</td>\n",
       "      <td>5000000.0</td>\n",
       "      <td>1.0</td>\n",
       "      <td>Shunwei Capital</td>\n",
       "      <td>24540ba2-35b0-a757-f75e-87565c50692e</td>\n",
       "      <td>1</td>\n",
       "    </tr>\n",
       "  </tbody>\n",
       "</table>\n",
       "</div>"
      ],
      "text/plain": [
       "                               org_uuid      org_name                domain  \\\n",
       "0  a2323b6c-29b9-4750-905c-cdcbd9ce92b8   10X Banking        10xbanking.com   \n",
       "1  cf3b00cf-ffbf-0e4f-6427-a60e5060de39  10X Genomics       10xgenomics.com   \n",
       "2  cf3b00cf-ffbf-0e4f-6427-a60e5060de39  10X Genomics       10xgenomics.com   \n",
       "3  0680987f-23cd-4fa5-850c-38326fffaa36     111, Inc.  corporate.111.com.cn   \n",
       "4  a79a6ae8-3c74-0db7-7e6b-b4f7662d37e8       17zuoye   ucenter.17zuoye.com   \n",
       "\n",
       "      status founded_on                                      category_list  \\\n",
       "0  operating 2016-01-01        Banking,Financial Services,FinTech,Software   \n",
       "1        ipo 2012-01-01         Biotechnology,Genetics,Health Care,Medical   \n",
       "2        ipo 2012-01-01         Biotechnology,Genetics,Health Care,Medical   \n",
       "3        ipo 2010-01-01                                Health Care,Medical   \n",
       "4        ipo 2011-01-01  E-Learning,EdTech,Education,Internet,Language ...   \n",
       "\n",
       "                                category_groups_list country_code        city  \\\n",
       "0  Financial Services,Lending and Investments,Sof...          GBR      London   \n",
       "1  Biotechnology,Health Care,Science and Engineering          USA  Pleasanton   \n",
       "2  Biotechnology,Health Care,Science and Engineering          USA  Pleasanton   \n",
       "3                                        Health Care          CHN    Shanghai   \n",
       "4               Education,Internet Services,Software          CHN    Shanghai   \n",
       "\n",
       "                                   short_description  \\\n",
       "0  10X Banking is a financial service technology ...   \n",
       "1  10X Genomics ELV solutions and security system...   \n",
       "2  10X Genomics ELV solutions and security system...   \n",
       "3  111, Inc. operates as a digital and mobile hea...   \n",
       "4  17zuoye is an online learning platform for K-1...   \n",
       "\n",
       "                                    long_description  \\\n",
       "0  10x Banking (10x), a financial services techno...   \n",
       "1  10x Genomics is creating revolutionary DNA seq...   \n",
       "2  10x Genomics is creating revolutionary DNA seq...   \n",
       "3  111,Inc. is a leading digital and mobile healt...   \n",
       "4  17zuoye is an online learning platform for K-1...   \n",
       "\n",
       "                                founder_linkedin_url investment_type  \\\n",
       "0        https://www.linkedin.com/in/antony-jenkins/        series_a   \n",
       "1  https://www.linkedin.com/in/ben-hindson-09739813/            seed   \n",
       "2  https://www.linkedin.com/in/serge-saxonov-7b42...            seed   \n",
       "3   https://www.linkedin.com/in/junling-liu-2b90724/        series_a   \n",
       "4      https://www.linkedin.com/in/dun-xiao-3622629/        series_a   \n",
       "\n",
       "                 round_created_at  raised_amount_usd  investor_count  \\\n",
       "0  2017-09-21 01:07:18.000000 UTC         45867909.0             2.0   \n",
       "1  2018-04-27 04:18:33.000000 UTC          4700000.0             1.0   \n",
       "2  2018-04-27 04:18:33.000000 UTC          4700000.0             1.0   \n",
       "3  2018-09-14 07:49:39.000000 UTC          2100000.0             1.0   \n",
       "4  2015-02-20 15:29:12.000000 UTC          5000000.0             1.0   \n",
       "\n",
       "                       investors_names  \\\n",
       "0  Oliver Wyman,Ping An Global Voyager   \n",
       "1                  Silicon Valley Bank   \n",
       "2                  Silicon Valley Bank   \n",
       "3                          Ivy Capital   \n",
       "4                      Shunwei Capital   \n",
       "\n",
       "                                     investors_uuids  success_flag  \n",
       "0  88213ccc-71f8-1024-72cf-44e863af4993,c8cb5641-...             1  \n",
       "1               4eee5e60-3b06-6fe8-cc2c-29119a96051d             1  \n",
       "2               4eee5e60-3b06-6fe8-cc2c-29119a96051d             1  \n",
       "3               f8eed790-8c07-4e49-c873-0f7245e393ff             1  \n",
       "4               24540ba2-35b0-a757-f75e-87565c50692e             1  "
      ]
     },
     "execution_count": 46,
     "metadata": {},
     "output_type": "execute_result"
    }
   ],
   "source": [
    "# sanity checks\n",
    "\n",
    "df_SuccessfulCompanies_merged.head()"
   ]
  }
 ],
 "metadata": {
  "kernelspec": {
   "display_name": "VelaMoneyball",
   "language": "python",
   "name": "python3"
  },
  "language_info": {
   "codemirror_mode": {
    "name": "ipython",
    "version": 3
   },
   "file_extension": ".py",
   "mimetype": "text/x-python",
   "name": "python",
   "nbconvert_exporter": "python",
   "pygments_lexer": "ipython3",
   "version": "3.9.15"
  },
  "orig_nbformat": 4,
  "vscode": {
   "interpreter": {
    "hash": "80ed5ba3da40db5a0a7dbb542c9aa0e25491f3ab9c3c3dfba5c7eb8a9581f88b"
   }
  }
 },
 "nbformat": 4,
 "nbformat_minor": 2
}
